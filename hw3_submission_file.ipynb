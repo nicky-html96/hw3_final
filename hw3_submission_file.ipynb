{
 "cells": [
  {
   "cell_type": "markdown",
   "metadata": {
    "Collapsed": "false"
   },
   "source": [
    "# HW 3 - Blood Drive Simulation\n",
    "In this notebook, we will be exploring and simulating the process of donating blood. I choose to pick this type of model is because I recently donated some blood at a blood drive."
   ]
  },
  {
   "cell_type": "markdown",
   "metadata": {
    "Collapsed": "false"
   },
   "source": [
    "## Preliminaries"
   ]
  },
  {
   "cell_type": "code",
   "execution_count": 10,
   "metadata": {
    "Collapsed": "false"
   },
   "outputs": [],
   "source": [
    "# To auto-reload modules in jupyter notebook (so that changes in files *.py doesn't require manual reloading):\n",
    "# https://stackoverflow.com/questions/5364050/reloading-submodules-in-ipython\n",
    "%load_ext autoreload\n",
    "%autoreload 2"
   ]
  },
  {
   "cell_type": "markdown",
   "metadata": {
    "Collapsed": "false"
   },
   "source": [
    "Import commonly used libraries and magic command for inline plotting"
   ]
  },
  {
   "cell_type": "code",
   "execution_count": 1,
   "metadata": {
    "Collapsed": "false"
   },
   "outputs": [],
   "source": [
    "import math\n",
    "import numpy as np\n",
    "import pandas as pd\n",
    "from scipy import optimize\n",
    "import matplotlib.pyplot as plt\n",
    "import seaborn as sns\n",
    "from numpy.random import default_rng\n",
    "from IPython.display import Image\n",
    "import simpy"
   ]
  },
  {
   "cell_type": "code",
   "execution_count": 3,
   "metadata": {},
   "outputs": [],
   "source": [
    "%matplotlib inline"
   ]
  },
  {
   "cell_type": "markdown",
   "metadata": {
    "Collapsed": "false"
   },
   "source": [
    "# Model\n",
    "\n",
    "Here is the basic model of what the blood donation would look like.\n",
    "\n",
    "    Arrival --> Registration/Questionare Form --> Medical Screening --> Mini Physical --> Blood Donation --> Post drawn blood observation --> Refreshment station --> Exit"
   ]
  },
  {
   "cell_type": "markdown",
   "metadata": {
    "Collapsed": "false"
   },
   "source": [
    "In this model we want to consider a couple of things:\n",
    "* How long it may take overall with the number of workers present at specific stations?\n",
    "* At what point does the model start to bottle neck?\n",
    "* If there is anyway we can keep the rate constant without long lag times in the flow."
   ]
  },
  {
   "cell_type": "markdown",
   "metadata": {},
   "source": [
    "## Generating blood drive donors "
   ]
  },
  {
   "cell_type": "markdown",
   "metadata": {},
   "source": [
    "Let's first start with the creation of the donors for our blood drive. We want to make there arrival time random to demonstrate a Poisson arrival."
   ]
  },
  {
   "cell_type": "code",
   "execution_count": 44,
   "metadata": {},
   "outputs": [
    {
     "name": "stdout",
     "output_type": "stream",
     "text": [
      "0.45855804438027437\n",
      "0.15021752731855942\n"
     ]
    }
   ],
   "source": [
    "from numpy.random import default_rng\n",
    "rg = default_rng(seed=4470)\n",
    "print(rg.random())\n",
    "print(rg.random())"
   ]
  },
  {
   "cell_type": "code",
   "execution_count": 46,
   "metadata": {},
   "outputs": [],
   "source": [
    "def donor_rand_arrivals(env, interarrival_time=0, rg=default_rng(0)):\n",
    "    \"\"\"Generating blood donors according to a Poisson arrival process\"\"\"\n",
    "\n",
    "    # Creation of counter to keep track of the number of donors generated and there unique id\n",
    "    donor = 0\n",
    "\n",
    "    # Infinite loop for generating donors\n",
    "    while True:\n",
    "\n",
    "        # Generate next interarrival time from exponential distribution\n",
    "        iat = rg.exponential(mean_interarrival_time)\n",
    "        \n",
    "        # This process will now yield to a 'timeout' event. This process will resume after iat time units.\n",
    "        yield env.timeout(iat)\n",
    "\n",
    "        # update counter of donor\n",
    "        donor += 1\n",
    "        \n",
    "        print(f\"Donor {donor} created at time {env.now}\")\n",
    "\n"
   ]
  },
  {
   "cell_type": "code",
   "execution_count": 48,
   "metadata": {},
   "outputs": [
    {
     "name": "stdout",
     "output_type": "stream",
     "text": [
      "Donor 1 created at time 3.3996595198445476\n",
      "Donor 2 created at time 8.49764502717387\n",
      "Donor 3 created at time 8.596678340119148\n",
      "Donor 4 created at time 8.60802497352529\n",
      "Donor 5 created at time 11.35973933672053\n",
      "Donor 6 created at time 19.509441510012458\n",
      "Donor 7 created at time 22.877356273348617\n",
      "Donor 8 created at time 26.653863062475573\n",
      "Donor 9 created at time 40.7377929578542\n",
      "Donor 10 created at time 71.02655836006706\n",
      "Donor 11 created at time 87.45869964953577\n",
      "Donor 12 created at time 87.46513840120988\n",
      "Donor 13 created at time 98.81061172254442\n",
      "Donor 14 created at time 99.17310014714388\n"
     ]
    }
   ],
   "source": [
    "# Initialize a simulation environment\n",
    "env1 = simpy.Environment()\n",
    "\n",
    "# Create a process generator and start it and add it to the env\n",
    "# env.process() starts the patient_arrivals process and adds it to the environment\n",
    "runtime = 100\n",
    "interarrival_time = 5.0\n",
    "env1.process(donor_rand_arrivals(env1, interarrival_time))\n",
    "\n",
    "# Run the simulation\n",
    "env1.run(until=runtime)"
   ]
  },
  {
   "cell_type": "code",
   "execution_count": 50,
   "metadata": {},
   "outputs": [],
   "source": [
    "# Import exponential distribution function from scipy.stats\n",
    "from scipy.stats import expon\n",
    "# Set mean of this distribution to whatever we were using above for interarrival time\n",
    "mean_interarrival_time = interarrival_time\n",
    "# Create a random variable object based on the exponential distribution with the given mean\n",
    "rv_expon = expon(scale=mean_interarrival_time)"
   ]
  },
  {
   "cell_type": "code",
   "execution_count": 52,
   "metadata": {},
   "outputs": [
    {
     "data": {
      "image/png": "[encoded data removed]",
      "text/plain": [
       "<Figure size 640x480 with 1 Axes>"
      ]
     },
     "metadata": {},
     "output_type": "display_data"
    }
   ],
   "source": [
    "# Generate 1000 exponential random variates (notice this is the exponential function from numpy)\n",
    "iat_sample = rg.exponential(mean_interarrival_time, 10000)\n",
    "\n",
    "# Create a histogram of the random samples with exponential pdf overlaid\n",
    "plt.title(\"Interarrival time histogram\")\n",
    "plt.xlabel(\"Interarrival time\")\n",
    "plt.ylabel(\"Density\")\n",
    "plt.hist(iat_sample, density=True);\n",
    "\n",
    "# Create values for the x-axis using expon function from SciPy\n",
    "x_expon = np.linspace(rv_expon.ppf(0.0001),\n",
    "                rv_expon.ppf(0.999), 500)\n",
    "\n",
    "# Create values for the y-axis\n",
    "y_expon_pdf = rv_expon.pdf(x_expon)\n",
    "\n",
    "plt.plot(x_expon, y_expon_pdf,\n",
    "       'r-', lw=3, alpha=0.6, label='Exponential pdf');\n",
    "\n"
   ]
  },
  {
   "cell_type": "markdown",
   "metadata": {},
   "source": [
    "## Beginning of donation process"
   ]
  },
  {
   "cell_type": "markdown",
   "metadata": {},
   "source": [
    "In this part of the model, let's focus on the necessary steps that donors will have to do in order to complete and procede to the drawing blood phase."
   ]
  },
  {
   "cell_type": "code",
   "execution_count": 57,
   "metadata": {},
   "outputs": [],
   "source": [
    "class BloodDonationDrive(object):\n",
    "    def __init__(self, env, num_screening_nurse, num_of_donors, num_physical_dr, num_blood_nurse, num_post_obs_staff, rg):\n",
    "        # Simulation environment\n",
    "        self.env = env\n",
    "        self.rg = rg\n",
    "        \n",
    "        # Create list to hold timestamps dictionaries (one per donor)\n",
    "        self.timestamps_list = []\n",
    "        # Create lists to hold occupancy tuples (time, occ)\n",
    "        self.postdonation_occupancy_list = [(0.0, 0.0)]\n",
    "        self.donor_occupancy_list = [(0.0, 0.0)]\n",
    "        \n",
    "        # Create resources\n",
    "        self.screening_nurse = simpy.Resource(env, num_screening_nurse)\n",
    "        self.donors = simpy.Resource(env, num_of_donors)\n",
    "        self.physical_dr = simpy.Resource(env, num_physical_dr)\n",
    "        self.blood_nurse = simpy.Resource(env, num_blood_nurse)\n",
    "        self.post_obs_staff = simpy.Resource(env, num_post_obs_staff)\n",
    "\n",
    "\n",
    "    # Create process methods - hard coding processing time distributions for now\n",
    "    # TODO - remove hard coding\n",
    "    # The patient argument is just a unique integer number\n",
    "    def registration(self, donor):\n",
    "        yield self.env.timeout(self.rg.exponential(1.0))\n",
    "    \n",
    "    def medical_screening(self, donor):\n",
    "        yield self.env.timeout(self.rg.normal(0.25, 0.05))\n",
    "\n",
    "    def mini_physical(self, donor):\n",
    "        yield self.env.timeout(self.rg.normal(0.25, 0.05))\n",
    "\n",
    "    def blood_donation(self, donor):\n",
    "        yield self.env.timeout(self.rg.normal(4.0, 0.5))\n",
    "        \n",
    "    # We assume all patients wait at least 15 minutes post-vaccination\n",
    "    # Some will choose to wait longer. This is the time beyond 15 minutes\n",
    "    # that patients wait.\n",
    "    def wait_time_refreshments(self, donor):\n",
    "        yield self.env.timeout(self.rg.exponential(0.5))"
   ]
  },
  {
   "cell_type": "code",
   "execution_count": null,
   "metadata": {},
   "outputs": [],
   "source": [
    "def drawing_blood(env, donor, clinic, pct_first_dose, rg):\n",
    "    # Patient arrives to clinic - note the arrival time\n",
    "    arrival_ts = env.now\n",
    "\n",
    "    # Request a greeter for temperature check\n",
    "    # By using request() in a context manager, we'll automatically release the resource when done\n",
    "    with clinic.greeter.request() as request:\n",
    "        yield request\n",
    "        # Now that we have a greeter, check temperature. Note time.\n",
    "        got_greeter_ts = env.now\n",
    "        yield env.process(clinic.temperature_check(patient))\n",
    "        release_greeter_ts = env.now\n",
    "\n",
    "    # Request reg staff to get registered\n",
    "    with clinic.reg_staff.request() as request:\n",
    "        yield request\n",
    "        got_reg_ts = env.now\n",
    "        yield env.process(clinic.registration(patient))\n",
    "        release_reg_ts = env.now\n",
    "        \n",
    "    # Request clinical staff to get vaccinated\n",
    "    with clinic.vaccinator.request() as request:\n",
    "        yield request\n",
    "        got_vaccinator_ts = env.now\n",
    "        # Update vac occupancy - increment by 1\n",
    "        prev_occ = clinic.vac_occupancy_list[-1][1]\n",
    "        new_occ = (env.now, prev_occ + 1)\n",
    "        clinic.vac_occupancy_list.append(new_occ)\n",
    "        yield env.process(clinic.vaccinate(patient))\n",
    "        release_vaccinator_ts = env.now\n",
    "        # Update vac occupancy - decrement by 1 - more compact code\n",
    "        # Note that clinic.vac_occupancy_list[-1] is the last tuple in the list\n",
    "        #  and that clinic.vac_occupancy_list[-1][1] is referencing the occupancy\n",
    "        #  value in the tuple (remember tuple elements are indexed starting with 0, so\n",
    "        #  the timestamp is at [0] and the occupancy is at [1]).\n",
    "        #  BTW, this suggests that perhaps using something known as \"namedtuples\" might\n",
    "        #  make our code more readable. See https://realpython.com/python-namedtuple/ \n",
    "        #  for a good introduction to namedtuples.\n",
    "        clinic.vac_occupancy_list.append((env.now, clinic.vac_occupancy_list[-1][1] - 1))\n",
    "        \n",
    "        # Update postvac occupancy - increment by 1\n",
    "        clinic.postvac_occupancy_list.append((env.now, clinic.postvac_occupancy_list[-1][1] + 1))\n",
    "\n",
    "    # Request scheduler to schedule second dose if needed\n",
    "    if rg.random() < pct_first_dose:\n",
    "        with clinic.scheduler.request() as request:\n",
    "            yield request\n",
    "            got_scheduler_ts = env.now\n",
    "            yield env.process(clinic.schedule_dose_2(patient))\n",
    "            release_scheduler_ts = env.now\n",
    "    else:\n",
    "        got_scheduler_ts = pd.NA\n",
    "        release_scheduler_ts = pd.NA\n",
    "        \n",
    "    # Wait at least 15 minutes from time we finished getting vaccinated \n",
    "    post_vac_time = env.now - release_vaccinator_ts\n",
    "    if post_vac_time < 15:\n",
    "        # Wait until 15 total minutes post vac\n",
    "        yield env.timeout(15 - post_vac_time)\n",
    "        # Wait random amount beyond 15 minutes\n",
    "        yield env.process(clinic.wait_gt_15(patient))\n",
    "        exit_system_ts = env.now\n",
    "        \n",
    "        # Update postvac occupancy - decrement by 1\n",
    "        clinic.postvac_occupancy_list.append((env.now, clinic.postvac_occupancy_list[-1][1] - 1))\n",
    "    \n",
    "    exit_system_ts = env.now    \n",
    "    #print(f\"Patient {patient} exited at time {env.now}\")\n",
    "\n",
    "    # Create dictionary of timestamps\n",
    "    timestamps = {'patient_id': patient,\n",
    "                  'arrival_ts': arrival_ts,\n",
    "                  'got_greeter_ts': got_greeter_ts,\n",
    "                  'release_greeter_ts': release_greeter_ts,\n",
    "                  'got_reg_ts': got_reg_ts,\n",
    "                  'release_reg_ts': release_reg_ts,\n",
    "                  'got_vaccinator_ts': got_vaccinator_ts,\n",
    "                  'release_vaccinator_ts': release_vaccinator_ts,\n",
    "                  'got_scheduler_ts': got_scheduler_ts,\n",
    "                  'release_scheduler_ts': release_scheduler_ts,\n",
    "                  'exit_system_ts': exit_system_ts}\n",
    "    \n",
    "    clinic.timestamps_list.append(timestamps)"
   ]
  }
 ],
 "metadata": {
  "kernelspec": {
   "display_name": "Python [conda env:aap]",
   "language": "python",
   "name": "conda-env-aap-py"
  },
  "language_info": {
   "codemirror_mode": {
    "name": "ipython",
    "version": 3
   },
   "file_extension": ".py",
   "mimetype": "text/x-python",
   "name": "python",
   "nbconvert_exporter": "python",
   "pygments_lexer": "ipython3",
   "version": "3.12.3"
  },
  "toc-autonumbering": true
 },
 "nbformat": 4,
 "nbformat_minor": 4
}
